{
  "nbformat": 4,
  "nbformat_minor": 0,
  "metadata": {
    "colab": {
      "name": "0523.ipynb",
      "provenance": [],
      "authorship_tag": "ABX9TyPvcfGWcI/hdojHsqe6VN5/",
      "include_colab_link": true
    },
    "kernelspec": {
      "name": "python3",
      "display_name": "Python 3"
    },
    "language_info": {
      "name": "python"
    }
  },
  "cells": [
    {
      "cell_type": "markdown",
      "metadata": {
        "id": "view-in-github",
        "colab_type": "text"
      },
      "source": [
        "<a href=\"https://colab.research.google.com/github/HeidiPang/Induction-to-computer/blob/main/0523.ipynb\" target=\"_parent\"><img src=\"https://colab.research.google.com/assets/colab-badge.svg\" alt=\"Open In Colab\"/></a>"
      ]
    },
    {
      "cell_type": "code",
      "execution_count": null,
      "metadata": {
        "colab": {
          "base_uri": "https://localhost:8080/"
        },
        "id": "w8Yt2HxU--IU",
        "outputId": "7d030de6-3ea1-469e-ac0f-f3a75b480552"
      },
      "outputs": [
        {
          "output_type": "stream",
          "name": "stdout",
          "text": [
            "123\n"
          ]
        }
      ],
      "source": [
        "print('123')"
      ]
    },
    {
      "cell_type": "code",
      "source": [
        "sum = 0 \n",
        "test = int(input('Please input a integer: '))\n",
        "for n in range (1, test+1):\n",
        "  sum = sum+n\n",
        "print('1 to', test, \"integer total is\", sum)"
      ],
      "metadata": {
        "colab": {
          "base_uri": "https://localhost:8080/"
        },
        "id": "wbuj-5bC_F5A",
        "outputId": "f45201e4-cf44-4899-c538-be1735921444"
      },
      "execution_count": null,
      "outputs": [
        {
          "output_type": "stream",
          "name": "stdout",
          "text": [
            "Please input a integer: 10\n",
            "1 to 10 integer total is 55\n"
          ]
        }
      ]
    },
    {
      "cell_type": "code",
      "source": [
        ""
      ],
      "metadata": {
        "id": "tPsQDEVV_GGA"
      },
      "execution_count": null,
      "outputs": []
    },
    {
      "cell_type": "code",
      "source": [
        "sum = 0\n",
        "test = int(input('Please input a integer: '))\n",
        "for m in range(1, test+1):\n",
        "  sum = sum+m\n",
        "  print(\"1 to\",str(m),\"integer total is\", sum)"
      ],
      "metadata": {
        "colab": {
          "base_uri": "https://localhost:8080/"
        },
        "id": "59eUH2RS_GIf",
        "outputId": "1d3052c4-65b2-4dff-87d9-c1b336e05005"
      },
      "execution_count": null,
      "outputs": [
        {
          "output_type": "stream",
          "name": "stdout",
          "text": [
            "Please input a integer: 50\n",
            "1 to 1 integer total is 1\n",
            "1 to 2 integer total is 3\n",
            "1 to 3 integer total is 6\n",
            "1 to 4 integer total is 10\n",
            "1 to 5 integer total is 15\n",
            "1 to 6 integer total is 21\n",
            "1 to 7 integer total is 28\n",
            "1 to 8 integer total is 36\n",
            "1 to 9 integer total is 45\n",
            "1 to 10 integer total is 55\n",
            "1 to 11 integer total is 66\n",
            "1 to 12 integer total is 78\n",
            "1 to 13 integer total is 91\n",
            "1 to 14 integer total is 105\n",
            "1 to 15 integer total is 120\n",
            "1 to 16 integer total is 136\n",
            "1 to 17 integer total is 153\n",
            "1 to 18 integer total is 171\n",
            "1 to 19 integer total is 190\n",
            "1 to 20 integer total is 210\n",
            "1 to 21 integer total is 231\n",
            "1 to 22 integer total is 253\n",
            "1 to 23 integer total is 276\n",
            "1 to 24 integer total is 300\n",
            "1 to 25 integer total is 325\n",
            "1 to 26 integer total is 351\n",
            "1 to 27 integer total is 378\n",
            "1 to 28 integer total is 406\n",
            "1 to 29 integer total is 435\n",
            "1 to 30 integer total is 465\n",
            "1 to 31 integer total is 496\n",
            "1 to 32 integer total is 528\n",
            "1 to 33 integer total is 561\n",
            "1 to 34 integer total is 595\n",
            "1 to 35 integer total is 630\n",
            "1 to 36 integer total is 666\n",
            "1 to 37 integer total is 703\n",
            "1 to 38 integer total is 741\n",
            "1 to 39 integer total is 780\n",
            "1 to 40 integer total is 820\n",
            "1 to 41 integer total is 861\n",
            "1 to 42 integer total is 903\n",
            "1 to 43 integer total is 946\n",
            "1 to 44 integer total is 990\n",
            "1 to 45 integer total is 1035\n",
            "1 to 46 integer total is 1081\n",
            "1 to 47 integer total is 1128\n",
            "1 to 48 integer total is 1176\n",
            "1 to 49 integer total is 1225\n",
            "1 to 50 integer total is 1275\n"
          ]
        }
      ]
    },
    {
      "cell_type": "code",
      "source": [
        ""
      ],
      "metadata": {
        "id": "KVmGhvkR_8VV"
      },
      "execution_count": null,
      "outputs": []
    },
    {
      "cell_type": "code",
      "source": [
        ""
      ],
      "metadata": {
        "id": "Db9yiRW6_8YI"
      },
      "execution_count": null,
      "outputs": []
    },
    {
      "cell_type": "code",
      "source": [
        ""
      ],
      "metadata": {
        "id": "x0urWzrO_8d-"
      },
      "execution_count": null,
      "outputs": []
    },
    {
      "cell_type": "code",
      "source": [
        ""
      ],
      "metadata": {
        "id": "8MrTICMA_8hS"
      },
      "execution_count": null,
      "outputs": []
    },
    {
      "cell_type": "code",
      "source": [
        "for j in range(1,5):\n",
        "  print(j)\n",
        "  for i in range(1,3):\n",
        "    k=i*j\n",
        "    print(j,\"*\",i,\"=\",k)"
      ],
      "metadata": {
        "colab": {
          "base_uri": "https://localhost:8080/"
        },
        "id": "kgJuftUn_GLX",
        "outputId": "78d25c27-b108-401b-d99f-f3dd389b4729"
      },
      "execution_count": null,
      "outputs": [
        {
          "output_type": "stream",
          "name": "stdout",
          "text": [
            "1\n",
            "1 * 1 = 1\n",
            "1 * 2 = 2\n",
            "2\n",
            "2 * 1 = 2\n",
            "2 * 2 = 4\n",
            "3\n",
            "3 * 1 = 3\n",
            "3 * 2 = 6\n",
            "4\n",
            "4 * 1 = 4\n",
            "4 * 2 = 8\n"
          ]
        }
      ]
    },
    {
      "cell_type": "code",
      "source": [
        "for j in range(1,5+1):\n",
        "  print(j)\n",
        "  for i in range(1,3):\n",
        "    k=i*j\n",
        "    print(j,\"*\",i,\"=\",k)"
      ],
      "metadata": {
        "colab": {
          "base_uri": "https://localhost:8080/"
        },
        "id": "yS1ZBegf_GOA",
        "outputId": "47732f8e-16e6-47b3-cca5-e2b9c5269448"
      },
      "execution_count": null,
      "outputs": [
        {
          "output_type": "stream",
          "name": "stdout",
          "text": [
            "1\n",
            "1 * 1 = 1\n",
            "1 * 2 = 2\n",
            "2\n",
            "2 * 1 = 2\n",
            "2 * 2 = 4\n",
            "3\n",
            "3 * 1 = 3\n",
            "3 * 2 = 6\n",
            "4\n",
            "4 * 1 = 4\n",
            "4 * 2 = 8\n",
            "5\n",
            "5 * 1 = 5\n",
            "5 * 2 = 10\n"
          ]
        }
      ]
    },
    {
      "cell_type": "code",
      "source": [
        "for i in range(1,5):\n",
        "  if(i==4):\n",
        "     break\n",
        "  print(i, end=\" \")\n"
      ],
      "metadata": {
        "colab": {
          "base_uri": "https://localhost:8080/"
        },
        "id": "CVkdStVQ_GQ5",
        "outputId": "4a0f850c-fff4-4e21-f557-6b4b610689dd"
      },
      "execution_count": null,
      "outputs": [
        {
          "output_type": "stream",
          "name": "stdout",
          "text": [
            "1 2 3 "
          ]
        }
      ]
    },
    {
      "cell_type": "code",
      "source": [
        "for i in range(1,5):\n",
        "  if(i==4):\n",
        "    continue\n",
        "  print(i,end=\" \")\n"
      ],
      "metadata": {
        "colab": {
          "base_uri": "https://localhost:8080/"
        },
        "id": "_unMmMZA_GTr",
        "outputId": "3df4da41-270b-477c-bb22-333183223adb"
      },
      "execution_count": null,
      "outputs": [
        {
          "output_type": "stream",
          "name": "stdout",
          "text": [
            "1 2 3 "
          ]
        }
      ]
    },
    {
      "cell_type": "code",
      "source": [
        "count = 0\n",
        "for string in \"JTLL!\":\n",
        "  count+=1\n",
        "  if string == \"L\":\n",
        "    break\n",
        "  print(string)\n",
        "  \n",
        "print(\"loop ending!\")\n",
        "print(\"loop implement %d times\" %count)"
      ],
      "metadata": {
        "colab": {
          "base_uri": "https://localhost:8080/"
        },
        "id": "OjW0DStL_GWb",
        "outputId": "efc11648-172c-4625-a2ef-2f41347b78b5"
      },
      "execution_count": null,
      "outputs": [
        {
          "output_type": "stream",
          "name": "stdout",
          "text": [
            "J\n",
            "T\n",
            "loop ending!\n",
            "loop implement 3 times\n"
          ]
        }
      ]
    },
    {
      "cell_type": "code",
      "source": [
        "for i in range(2,10):\n",
        "  for j in range (1,10):\n",
        "    print(f'{i}*{j}={j*i}',end='\\t')\n",
        "  print()"
      ],
      "metadata": {
        "colab": {
          "base_uri": "https://localhost:8080/"
        },
        "id": "3iLxW_ND_GZG",
        "outputId": "1c7bd1a3-acb1-4409-965a-95505077137f"
      },
      "execution_count": null,
      "outputs": [
        {
          "output_type": "stream",
          "name": "stdout",
          "text": [
            "2*1=2\t2*2=4\t2*3=6\t2*4=8\t2*5=10\t2*6=12\t2*7=14\t2*8=16\t2*9=18\t\n",
            "3*1=3\t3*2=6\t3*3=9\t3*4=12\t3*5=15\t3*6=18\t3*7=21\t3*8=24\t3*9=27\t\n",
            "4*1=4\t4*2=8\t4*3=12\t4*4=16\t4*5=20\t4*6=24\t4*7=28\t4*8=32\t4*9=36\t\n",
            "5*1=5\t5*2=10\t5*3=15\t5*4=20\t5*5=25\t5*6=30\t5*7=35\t5*8=40\t5*9=45\t\n",
            "6*1=6\t6*2=12\t6*3=18\t6*4=24\t6*5=30\t6*6=36\t6*7=42\t6*8=48\t6*9=54\t\n",
            "7*1=7\t7*2=14\t7*3=21\t7*4=28\t7*5=35\t7*6=42\t7*7=49\t7*8=56\t7*9=63\t\n",
            "8*1=8\t8*2=16\t8*3=24\t8*4=32\t8*5=40\t8*6=48\t8*7=56\t8*8=64\t8*9=72\t\n",
            "9*1=9\t9*2=18\t9*3=27\t9*4=36\t9*5=45\t9*6=54\t9*7=63\t9*8=72\t9*9=81\t\n"
          ]
        }
      ]
    },
    {
      "cell_type": "code",
      "source": [
        ""
      ],
      "metadata": {
        "id": "7f69mcMwHBWs"
      },
      "execution_count": null,
      "outputs": []
    },
    {
      "cell_type": "code",
      "source": [
        "x = int(input(\"Please input a number : \"))\n",
        "y = int(input(\"Please input a number : \"))\n",
        "if x > y :\n",
        "  c = x\n",
        "else:\n",
        "  c = y\n",
        "for k in range (2, c):\n",
        "  if x % k == 0 and y % k == 0:\n",
        "    print(k)\n",
        "\n"
      ],
      "metadata": {
        "colab": {
          "base_uri": "https://localhost:8080/"
        },
        "id": "Dm6yBa6s__RP",
        "outputId": "1474ac62-7215-4181-d47c-1de64bc9de9b"
      },
      "execution_count": 12,
      "outputs": [
        {
          "output_type": "stream",
          "name": "stdout",
          "text": [
            "Please input a number : 4\n",
            "Please input a number : 6\n",
            "2\n"
          ]
        }
      ]
    },
    {
      "cell_type": "code",
      "source": [
        ""
      ],
      "metadata": {
        "id": "a6iESfo8__Oi"
      },
      "execution_count": null,
      "outputs": []
    },
    {
      "cell_type": "code",
      "source": [
        "n = int(input('Please input a integer : '))\n",
        "for m in range(1, n+1):\n",
        "  if(m%5==0):\n",
        "    print('', end=' ')\n",
        "  else:\n",
        "    print(m, end=' ')\n"
      ],
      "metadata": {
        "colab": {
          "base_uri": "https://localhost:8080/"
        },
        "id": "Eu8VCrQA__L-",
        "outputId": "eb511a77-ba79-4bae-e792-035bfde1831b"
      },
      "execution_count": 11,
      "outputs": [
        {
          "output_type": "stream",
          "name": "stdout",
          "text": [
            "Please input a integer : 12\n",
            "1 2 3 4  6 7 8 9  11 12 "
          ]
        }
      ]
    },
    {
      "cell_type": "code",
      "source": [
        "n = int(input('Please input a integer : '))\n",
        "for m in range(1, n+1):\n",
        "  if(m%5==0):\n",
        "    print(' ', end=' ')\n",
        "  else:\n",
        "    print(m, end=' ')"
      ],
      "metadata": {
        "id": "PU8cqiwA__JZ",
        "colab": {
          "base_uri": "https://localhost:8080/"
        },
        "outputId": "fa020612-f57d-4727-c4ed-ea39b0148527"
      },
      "execution_count": 8,
      "outputs": [
        {
          "output_type": "stream",
          "name": "stdout",
          "text": [
            "Please input a integer : 21\n",
            "1 2 3 4   6 7 8 9   11 12 13 14   16 17 18 19   21 "
          ]
        }
      ]
    },
    {
      "cell_type": "code",
      "source": [
        "\n",
        "\n"
      ],
      "metadata": {
        "id": "QUUyXU_q__Gk"
      },
      "execution_count": null,
      "outputs": []
    },
    {
      "cell_type": "code",
      "source": [
        ""
      ],
      "metadata": {
        "id": "vRDmUDX6__D_"
      },
      "execution_count": null,
      "outputs": []
    },
    {
      "cell_type": "code",
      "source": [
        ""
      ],
      "metadata": {
        "id": "IEbd3jpB__BT"
      },
      "execution_count": null,
      "outputs": []
    },
    {
      "cell_type": "code",
      "source": [
        ""
      ],
      "metadata": {
        "id": "aRbQLYii_--F"
      },
      "execution_count": null,
      "outputs": []
    },
    {
      "cell_type": "code",
      "source": [
        ""
      ],
      "metadata": {
        "id": "BNupLbRp_-7E"
      },
      "execution_count": null,
      "outputs": []
    }
  ]
}