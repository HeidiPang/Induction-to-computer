{
  "nbformat": 4,
  "nbformat_minor": 0,
  "metadata": {
    "colab": {
      "name": "0509.ipynb",
      "provenance": [],
      "authorship_tag": "ABX9TyNofYdaS13fFHMLMPiFHqnU",
      "include_colab_link": true
    },
    "kernelspec": {
      "name": "python3",
      "display_name": "Python 3"
    },
    "language_info": {
      "name": "python"
    }
  },
  "cells": [
    {
      "cell_type": "markdown",
      "metadata": {
        "id": "view-in-github",
        "colab_type": "text"
      },
      "source": [
        "<a href=\"https://colab.research.google.com/github/HeidiPang/Induction-to-computer/blob/main/0509.ipynb\" target=\"_parent\"><img src=\"https://colab.research.google.com/assets/colab-badge.svg\" alt=\"Open In Colab\"/></a>"
      ]
    },
    {
      "cell_type": "code",
      "execution_count": null,
      "metadata": {
        "colab": {
          "base_uri": "https://localhost:8080/"
        },
        "id": "49yPfqj_7xUa",
        "outputId": "bcc8cf49-21f1-456f-fbc2-67580cdb3d11"
      },
      "outputs": [
        {
          "output_type": "stream",
          "name": "stdout",
          "text": [
            "123\n"
          ]
        }
      ],
      "source": [
        "print(\"123\")"
      ]
    },
    {
      "cell_type": "code",
      "source": [
        "temp= float(input('Please input your temperature: '))\n",
        "if temp >=37.5:\n",
        "  print('Temperature too high!')\n",
        "elif temp >=37 and temp <37.4:\n",
        "  print('Temperature little bit high!')\n",
        "elif temp >=34 and temp <=36.9:\n",
        "  print('Temperature is normal!')\n",
        "else:\n",
        "  print('Temperature is wrong, Please try again!')\n"
      ],
      "metadata": {
        "colab": {
          "base_uri": "https://localhost:8080/"
        },
        "id": "TSJ0zRvS8cph",
        "outputId": "99c7b05f-0d69-4a0c-c8bc-ca96e92da0cc"
      },
      "execution_count": null,
      "outputs": [
        {
          "output_type": "stream",
          "name": "stdout",
          "text": [
            "Please input your temp: 35\n",
            "Temperature is normal!\n"
          ]
        }
      ]
    },
    {
      "cell_type": "code",
      "source": [
        "score = input ('Please input mark ')\n",
        "if (int(score)>=90):\n",
        "  print('A')\n",
        "elif (int(score)>= 80):\n",
        "  print('B')\n",
        "elif (int(score) >= 70):\n",
        "  print('C')\n",
        "elif (int(score) >=60):\n",
        "  print ('D')\n",
        "else:\n",
        "  print ('E')"
      ],
      "metadata": {
        "colab": {
          "base_uri": "https://localhost:8080/"
        },
        "id": "v_E3cWZ48csV",
        "outputId": "b04377f9-aaf7-47f0-cd97-c6b5dec8b67e"
      },
      "execution_count": null,
      "outputs": [
        {
          "output_type": "stream",
          "name": "stdout",
          "text": [
            "Please input mark 89\n",
            "B\n"
          ]
        }
      ]
    },
    {
      "cell_type": "code",
      "source": [
        "money = int(input('Please input purchase amount '))\n",
        "if (money >=10000):\n",
        "  if(money >=100000):\n",
        "    print('20% discount', money*0.8, end = 'dollars\\n')\n",
        "  elif (money  >=50000):\n",
        "    print('15% discount', money  *0.85, end = 'dolllars\\n')\n",
        "  elif (money >=30000):\n",
        "    print('10% discount', money *0.9, end = 'dollars\\n')\n",
        "  else:\n",
        "    print ('5% discount', money *0.95, end = 'dollars\\n')\n",
        "else:\n",
        "  print('no discount', money, end = 'dollars\\n')\n",
        "\n",
        "\n"
      ],
      "metadata": {
        "colab": {
          "base_uri": "https://localhost:8080/"
        },
        "id": "Nr_C7R4W8cvU",
        "outputId": "4eb5830c-c503-4107-af17-eab3ff8cbf50"
      },
      "execution_count": null,
      "outputs": [
        {
          "output_type": "stream",
          "name": "stdout",
          "text": [
            "Please input purchase amount 9000\n",
            "no discount 9000dollars\n"
          ]
        }
      ]
    },
    {
      "cell_type": "code",
      "source": [
        "month = int(input('Please input month : '))\n",
        "if month >=3 and month <=5:\n",
        "  print(month, 'is Spring!')\n",
        "elif month>=6 and month<=8 :\n",
        "  print(month, 'is Summer!')\n",
        "elif month>=9 and month <=11 :\n",
        "  print(month, 'is Autumn!')\n",
        "elif month==12 or month <=2 :\n",
        "  print(month, 'is Winter!')\n",
        "else:\n",
        "  print(month, 'is not in scope')"
      ],
      "metadata": {
        "id": "1O0SkEV48cx9",
        "colab": {
          "base_uri": "https://localhost:8080/"
        },
        "outputId": "68cce04a-8ec1-480b-f383-cea962c0a330"
      },
      "execution_count": 24,
      "outputs": [
        {
          "output_type": "stream",
          "name": "stdout",
          "text": [
            "Please input month : 12\n",
            "12 is Winter!\n"
          ]
        }
      ]
    },
    {
      "cell_type": "code",
      "source": [
        "income = int(input('Please input net income this year : '))\n",
        "if income >= 2000000:\n",
        "  print('Pay tax amount: ', income*0.3, end='dollars\\n')\n",
        "elif income >=1000000:\n",
        "  print('Pay tax amount: ', income*0.21, end='dollars\\n')\n",
        "elif income >=600000:\n",
        "  print('Pay tax amount: ', income*0.13, end='dollars\\n')\n",
        "elif income >=300000:\n",
        "  print('Pay tax amount: ', income*0.06, end='dollars\\n')\n",
        "else:\n",
        "  print('Pay tax amount: 0 dollars')"
      ],
      "metadata": {
        "id": "wvPfsGYa8c0m",
        "colab": {
          "base_uri": "https://localhost:8080/"
        },
        "outputId": "dd02ba38-1b4c-46ea-874b-628e725f52f6"
      },
      "execution_count": null,
      "outputs": [
        {
          "output_type": "stream",
          "name": "stdout",
          "text": [
            "Please input net income this year : 350000\n",
            "Pay tax amount:  21000.0dollars\n"
          ]
        }
      ]
    },
    {
      "cell_type": "code",
      "source": [
        ""
      ],
      "metadata": {
        "id": "589aO6vW8c3Y"
      },
      "execution_count": null,
      "outputs": []
    },
    {
      "cell_type": "code",
      "source": [
        ""
      ],
      "metadata": {
        "id": "iMILe9Mo8c6Q"
      },
      "execution_count": null,
      "outputs": []
    },
    {
      "cell_type": "code",
      "source": [
        ""
      ],
      "metadata": {
        "id": "DE4S33c-8c86"
      },
      "execution_count": null,
      "outputs": []
    },
    {
      "cell_type": "code",
      "source": [
        ""
      ],
      "metadata": {
        "id": "mIR1_g2-8c_m"
      },
      "execution_count": null,
      "outputs": []
    }
  ]
}