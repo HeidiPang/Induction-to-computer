{
  "nbformat": 4,
  "nbformat_minor": 0,
  "metadata": {
    "colab": {
      "name": "0516.ipynb",
      "provenance": [],
      "authorship_tag": "ABX9TyNElSeb1Wt8jXDOow6S9sjT",
      "include_colab_link": true
    },
    "kernelspec": {
      "name": "python3",
      "display_name": "Python 3"
    },
    "language_info": {
      "name": "python"
    }
  },
  "cells": [
    {
      "cell_type": "markdown",
      "metadata": {
        "id": "view-in-github",
        "colab_type": "text"
      },
      "source": [
        "<a href=\"https://colab.research.google.com/github/HeidiPang/Induction-to-computer/blob/main/0516.ipynb\" target=\"_parent\"><img src=\"https://colab.research.google.com/assets/colab-badge.svg\" alt=\"Open In Colab\"/></a>"
      ]
    },
    {
      "cell_type": "code",
      "execution_count": null,
      "metadata": {
        "colab": {
          "base_uri": "https://localhost:8080/"
        },
        "id": "nr3iLgDa8Y1D",
        "outputId": "b62f0737-c54f-493b-b22f-1ad6e40c907a"
      },
      "outputs": [
        {
          "output_type": "stream",
          "name": "stdout",
          "text": [
            "123\n"
          ]
        }
      ],
      "source": [
        "print('123')"
      ]
    },
    {
      "cell_type": "code",
      "source": [
        "i = range(5)"
      ],
      "metadata": {
        "id": "zage_P9Z8hWd"
      },
      "execution_count": null,
      "outputs": []
    },
    {
      "cell_type": "code",
      "source": [
        "print(type(i))"
      ],
      "metadata": {
        "colab": {
          "base_uri": "https://localhost:8080/"
        },
        "id": "6BIy9trX8hZX",
        "outputId": "49590752-d418-445f-ce2a-fe66981a4bcc"
      },
      "execution_count": null,
      "outputs": [
        {
          "output_type": "stream",
          "name": "stdout",
          "text": [
            "<class 'range'>\n"
          ]
        }
      ]
    },
    {
      "cell_type": "code",
      "source": [
        "print(i)"
      ],
      "metadata": {
        "colab": {
          "base_uri": "https://localhost:8080/"
        },
        "id": "7m87u6qw8hcH",
        "outputId": "b1466627-8b57-42a7-a955-74151382de5b"
      },
      "execution_count": null,
      "outputs": [
        {
          "output_type": "stream",
          "name": "stdout",
          "text": [
            "range(0, 5)\n"
          ]
        }
      ]
    },
    {
      "cell_type": "code",
      "source": [
        "print(list(i))"
      ],
      "metadata": {
        "colab": {
          "base_uri": "https://localhost:8080/"
        },
        "id": "NIdvTenw8hep",
        "outputId": "ab1ae09f-ae54-46df-b68b-0b8467f45f35"
      },
      "execution_count": null,
      "outputs": [
        {
          "output_type": "stream",
          "name": "stdout",
          "text": [
            "[0, 1, 2, 3, 4]\n"
          ]
        }
      ]
    },
    {
      "cell_type": "code",
      "source": [
        "a = range(3, 8)\n",
        "print(list(a))"
      ],
      "metadata": {
        "colab": {
          "base_uri": "https://localhost:8080/"
        },
        "id": "T7vgbfv18hhK",
        "outputId": "e5adfb05-d480-4df2-b9e7-5491e6d4b7fd"
      },
      "execution_count": null,
      "outputs": [
        {
          "output_type": "stream",
          "name": "stdout",
          "text": [
            "[3, 4, 5, 6, 7]\n"
          ]
        }
      ]
    },
    {
      "cell_type": "code",
      "source": [
        "b = range(-2, 4)\n",
        "print(list(b))"
      ],
      "metadata": {
        "colab": {
          "base_uri": "https://localhost:8080/"
        },
        "id": "t-m-rByy8hjk",
        "outputId": "2f7e98df-de61-4bec-b3e1-67f938a06d54"
      },
      "execution_count": null,
      "outputs": [
        {
          "output_type": "stream",
          "name": "stdout",
          "text": [
            "[-2, -1, 0, 1, 2, 3]\n"
          ]
        }
      ]
    },
    {
      "cell_type": "code",
      "source": [
        "c = range(3, 8, 1)\n",
        "print(list(c))"
      ],
      "metadata": {
        "colab": {
          "base_uri": "https://localhost:8080/"
        },
        "id": "6uqK3WQd-sDy",
        "outputId": "38af7dbe-8fd5-4324-bf82-9edff34215e1"
      },
      "execution_count": null,
      "outputs": [
        {
          "output_type": "stream",
          "name": "stdout",
          "text": [
            "[3, 4, 5, 6, 7]\n"
          ]
        }
      ]
    },
    {
      "cell_type": "code",
      "source": [
        "d = range(3, 8, 2)\n",
        "print(list(d))"
      ],
      "metadata": {
        "colab": {
          "base_uri": "https://localhost:8080/"
        },
        "id": "3oW27wBH-sBL",
        "outputId": "c2f44396-e621-4236-b5d7-8e8641696e8f"
      },
      "execution_count": null,
      "outputs": [
        {
          "output_type": "stream",
          "name": "stdout",
          "text": [
            "[3, 5, 7]\n"
          ]
        }
      ]
    },
    {
      "cell_type": "code",
      "source": [
        "e = range (8, 3, -1)\n",
        "print(list(e))"
      ],
      "metadata": {
        "colab": {
          "base_uri": "https://localhost:8080/"
        },
        "id": "3dyRCUH--r-h",
        "outputId": "2b337fff-a308-4b1f-dc0a-64b86666a5a8"
      },
      "execution_count": null,
      "outputs": [
        {
          "output_type": "stream",
          "name": "stdout",
          "text": [
            "[8, 7, 6, 5, 4]\n"
          ]
        }
      ]
    },
    {
      "cell_type": "code",
      "source": [
        "f = range (9)\n",
        "print(list(f))"
      ],
      "metadata": {
        "colab": {
          "base_uri": "https://localhost:8080/"
        },
        "id": "xmmLbqDo-r5P",
        "outputId": "688b3cce-1e0a-4125-cdb6-383443b01d1c"
      },
      "execution_count": null,
      "outputs": [
        {
          "output_type": "stream",
          "name": "stdout",
          "text": [
            "[0, 1, 2, 3, 4, 5, 6, 7, 8]\n"
          ]
        }
      ]
    },
    {
      "cell_type": "code",
      "source": [
        "g = range (1,10)\n",
        "print(list(g))"
      ],
      "metadata": {
        "colab": {
          "base_uri": "https://localhost:8080/"
        },
        "id": "EyNMkbxg-r1z",
        "outputId": "a6919efe-5b16-4fee-8f23-6e87fb39e728"
      },
      "execution_count": null,
      "outputs": [
        {
          "output_type": "stream",
          "name": "stdout",
          "text": [
            "[1, 2, 3, 4, 5, 6, 7, 8, 9]\n"
          ]
        }
      ]
    },
    {
      "cell_type": "code",
      "source": [
        "h = range (1, 10, 2)\n",
        "print(list(h))"
      ],
      "metadata": {
        "colab": {
          "base_uri": "https://localhost:8080/"
        },
        "id": "KczB97QW8hmU",
        "outputId": "54194e3b-fce7-477e-d470-d544f9d87b09"
      },
      "execution_count": null,
      "outputs": [
        {
          "output_type": "stream",
          "name": "stdout",
          "text": [
            "[1, 3, 5, 7, 9]\n"
          ]
        }
      ]
    },
    {
      "cell_type": "code",
      "source": [
        "i = range (10, 1, -2)\n",
        "print(list(i))"
      ],
      "metadata": {
        "colab": {
          "base_uri": "https://localhost:8080/"
        },
        "id": "ayNg9BKO8ho0",
        "outputId": "eddf3bf8-7622-49ff-bc34-b64bd8a91fb4"
      },
      "execution_count": null,
      "outputs": [
        {
          "output_type": "stream",
          "name": "stdout",
          "text": [
            "[10, 8, 6, 4, 2]\n"
          ]
        }
      ]
    },
    {
      "cell_type": "code",
      "source": [
        "for n in range(3):\n",
        "  print(n)"
      ],
      "metadata": {
        "colab": {
          "base_uri": "https://localhost:8080/"
        },
        "id": "Pk_PIFgn8hrd",
        "outputId": "f33db02f-60d6-4ada-8f97-c69983581190"
      },
      "execution_count": null,
      "outputs": [
        {
          "output_type": "stream",
          "name": "stdout",
          "text": [
            "0\n",
            "1\n",
            "2\n"
          ]
        }
      ]
    },
    {
      "cell_type": "code",
      "source": [
        "for n in range(10):\n",
        "  print(n, end=',')"
      ],
      "metadata": {
        "colab": {
          "base_uri": "https://localhost:8080/"
        },
        "id": "63SfaOoW8huA",
        "outputId": "9cd24bec-5602-408c-8749-4f7d6ae5581b"
      },
      "execution_count": null,
      "outputs": [
        {
          "output_type": "stream",
          "name": "stdout",
          "text": [
            "0,1,2,3,4,5,6,7,8,9,"
          ]
        }
      ]
    },
    {
      "cell_type": "code",
      "source": [
        "for n in range(0,10, 2):\n",
        "  print(n, end=',')\n"
      ],
      "metadata": {
        "colab": {
          "base_uri": "https://localhost:8080/"
        },
        "id": "4RwiK_fe8hzZ",
        "outputId": "52475cde-592a-47e1-ecc4-e59ee39ff4e5"
      },
      "execution_count": null,
      "outputs": [
        {
          "output_type": "stream",
          "name": "stdout",
          "text": [
            "0,2,4,6,8,"
          ]
        }
      ]
    },
    {
      "cell_type": "code",
      "source": [
        "n = int(input('Please input a integer: '))\n",
        "for n in range (1,n+1):\n",
        "  print(n, end=' ')"
      ],
      "metadata": {
        "colab": {
          "base_uri": "https://localhost:8080/"
        },
        "id": "CUfxWZ3m8h2V",
        "outputId": "d18a0500-5e26-40ee-976e-afd59b481a7e"
      },
      "execution_count": null,
      "outputs": [
        {
          "output_type": "stream",
          "name": "stdout",
          "text": [
            "Please input a integer: 5\n",
            "1 2 3 4 5 "
          ]
        }
      ]
    },
    {
      "cell_type": "code",
      "source": [
        "test = int(input('Please input a integer:'))\n",
        "for m in range (1, test+1):\n",
        "  print(m, end = ' ')"
      ],
      "metadata": {
        "colab": {
          "base_uri": "https://localhost:8080/"
        },
        "id": "40iImONPCgxb",
        "outputId": "fad60979-5c28-4c1d-901e-5dc27370ec96"
      },
      "execution_count": null,
      "outputs": [
        {
          "output_type": "stream",
          "name": "stdout",
          "text": [
            "Please input a integer:12\n",
            "1 2 3 4 5 6 7 8 9 10 11 12 "
          ]
        }
      ]
    },
    {
      "cell_type": "code",
      "source": [
        "sum = 0 \n",
        "for n in range(3):\n",
        "  sum = sum+n\n",
        "print(sum)"
      ],
      "metadata": {
        "colab": {
          "base_uri": "https://localhost:8080/"
        },
        "id": "WbA-mCmkCgr4",
        "outputId": "7796ba1e-6f89-4d6f-a152-42ec6b21fdd7"
      },
      "execution_count": null,
      "outputs": [
        {
          "output_type": "stream",
          "name": "stdout",
          "text": [
            "3\n"
          ]
        }
      ]
    },
    {
      "cell_type": "code",
      "source": [
        "sum = 0 \n",
        "for n in range(10, 1, -2):\n",
        "  sum = sum+n\n",
        "print(sum)"
      ],
      "metadata": {
        "colab": {
          "base_uri": "https://localhost:8080/"
        },
        "id": "0U6yaCa_Cgo2",
        "outputId": "33393c9f-583a-4848-9d9c-7f98c1f2f4fe"
      },
      "execution_count": null,
      "outputs": [
        {
          "output_type": "stream",
          "name": "stdout",
          "text": [
            "30\n"
          ]
        }
      ]
    },
    {
      "cell_type": "code",
      "source": [
        "test = int(input('Please input a integer : '))\n",
        "sum = 0\n",
        "for n in range(1, test+1):\n",
        "  sum = sum+n\n",
        "print('1 to', test, 'integer total is',sum)"
      ],
      "metadata": {
        "colab": {
          "base_uri": "https://localhost:8080/"
        },
        "id": "iaaY0J-qCgmN",
        "outputId": "e42d7168-80bc-46a3-bc12-a7c9a66f29dd"
      },
      "execution_count": 1,
      "outputs": [
        {
          "output_type": "stream",
          "name": "stdout",
          "text": [
            "Please input a integer : 10\n",
            "1 to 10 integer total is 55\n"
          ]
        }
      ]
    },
    {
      "cell_type": "code",
      "source": [
        "sum = 0\n",
        "test = int(input('Please input a integer : '))\n",
        "for n in range (1, test+1):\n",
        "  sum = sum+n\n",
        "print('1 to', test, 'integer total is',sum)"
      ],
      "metadata": {
        "colab": {
          "base_uri": "https://localhost:8080/"
        },
        "id": "dBXwSn8pCgjg",
        "outputId": "3057cfa7-e043-4fd0-c56d-a299b8ffa139"
      },
      "execution_count": 2,
      "outputs": [
        {
          "output_type": "stream",
          "name": "stdout",
          "text": [
            "Please input a integer : 50\n",
            "1 to 50 integer total is 1275\n"
          ]
        }
      ]
    },
    {
      "cell_type": "code",
      "source": [
        "\n",
        "sum = 0\n",
        "test = int(input('Please input a integer '))\n",
        "for m in range(1, test+1):\n",
        "  sum = sum+m\n",
        "  print(\"1 to\",str(m),'integer total is', sum)"
      ],
      "metadata": {
        "colab": {
          "base_uri": "https://localhost:8080/"
        },
        "id": "m1BtEZCXDxFg",
        "outputId": "dd667b2a-aa67-4384-c924-bf85a12f7d31"
      },
      "execution_count": 4,
      "outputs": [
        {
          "output_type": "stream",
          "name": "stdout",
          "text": [
            "Please input a integer 50\n",
            "1 to 1 integer total is 1\n",
            "1 to 2 integer total is 3\n",
            "1 to 3 integer total is 6\n",
            "1 to 4 integer total is 10\n",
            "1 to 5 integer total is 15\n",
            "1 to 6 integer total is 21\n",
            "1 to 7 integer total is 28\n",
            "1 to 8 integer total is 36\n",
            "1 to 9 integer total is 45\n",
            "1 to 10 integer total is 55\n",
            "1 to 11 integer total is 66\n",
            "1 to 12 integer total is 78\n",
            "1 to 13 integer total is 91\n",
            "1 to 14 integer total is 105\n",
            "1 to 15 integer total is 120\n",
            "1 to 16 integer total is 136\n",
            "1 to 17 integer total is 153\n",
            "1 to 18 integer total is 171\n",
            "1 to 19 integer total is 190\n",
            "1 to 20 integer total is 210\n",
            "1 to 21 integer total is 231\n",
            "1 to 22 integer total is 253\n",
            "1 to 23 integer total is 276\n",
            "1 to 24 integer total is 300\n",
            "1 to 25 integer total is 325\n",
            "1 to 26 integer total is 351\n",
            "1 to 27 integer total is 378\n",
            "1 to 28 integer total is 406\n",
            "1 to 29 integer total is 435\n",
            "1 to 30 integer total is 465\n",
            "1 to 31 integer total is 496\n",
            "1 to 32 integer total is 528\n",
            "1 to 33 integer total is 561\n",
            "1 to 34 integer total is 595\n",
            "1 to 35 integer total is 630\n",
            "1 to 36 integer total is 666\n",
            "1 to 37 integer total is 703\n",
            "1 to 38 integer total is 741\n",
            "1 to 39 integer total is 780\n",
            "1 to 40 integer total is 820\n",
            "1 to 41 integer total is 861\n",
            "1 to 42 integer total is 903\n",
            "1 to 43 integer total is 946\n",
            "1 to 44 integer total is 990\n",
            "1 to 45 integer total is 1035\n",
            "1 to 46 integer total is 1081\n",
            "1 to 47 integer total is 1128\n",
            "1 to 48 integer total is 1176\n",
            "1 to 49 integer total is 1225\n",
            "1 to 50 integer total is 1275\n"
          ]
        }
      ]
    },
    {
      "cell_type": "code",
      "source": [
        ""
      ],
      "metadata": {
        "id": "a7ndPgm0DxCY"
      },
      "execution_count": null,
      "outputs": []
    },
    {
      "cell_type": "code",
      "source": [
        ""
      ],
      "metadata": {
        "id": "hyZOI5CDDw_T"
      },
      "execution_count": null,
      "outputs": []
    },
    {
      "cell_type": "code",
      "source": [
        ""
      ],
      "metadata": {
        "id": "sfMvQPwYDw72"
      },
      "execution_count": null,
      "outputs": []
    },
    {
      "cell_type": "code",
      "source": [
        ""
      ],
      "metadata": {
        "id": "7U-qmPGzCggr"
      },
      "execution_count": null,
      "outputs": []
    },
    {
      "cell_type": "code",
      "source": [
        ""
      ],
      "metadata": {
        "id": "Ybixyvi0Cgdj"
      },
      "execution_count": null,
      "outputs": []
    }
  ]
}