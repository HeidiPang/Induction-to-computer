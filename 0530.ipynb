{
  "nbformat": 4,
  "nbformat_minor": 0,
  "metadata": {
    "colab": {
      "name": "0530.ipynb",
      "provenance": [],
      "authorship_tag": "ABX9TyO2TRr3d86SvPlFtsk2SMRn",
      "include_colab_link": true
    },
    "kernelspec": {
      "name": "python3",
      "display_name": "Python 3"
    },
    "language_info": {
      "name": "python"
    }
  },
  "cells": [
    {
      "cell_type": "markdown",
      "metadata": {
        "id": "view-in-github",
        "colab_type": "text"
      },
      "source": [
        "<a href=\"https://colab.research.google.com/github/HeidiPang/Induction-to-computer/blob/main/0530.ipynb\" target=\"_parent\"><img src=\"https://colab.research.google.com/assets/colab-badge.svg\" alt=\"Open In Colab\"/></a>"
      ]
    },
    {
      "cell_type": "code",
      "execution_count": null,
      "metadata": {
        "colab": {
          "base_uri": "https://localhost:8080/"
        },
        "id": "J5doqBlhBqzy",
        "outputId": "c709a28f-b30e-4799-b5f2-72726f9e15eb"
      },
      "outputs": [
        {
          "output_type": "stream",
          "name": "stdout",
          "text": [
            "123\n"
          ]
        }
      ],
      "source": [
        "print('123')"
      ]
    },
    {
      "cell_type": "code",
      "source": [
        "for i in range(2,10):\n",
        "  for j in range(1,10):\n",
        "    product = i*j\n",
        "    print(\"%d*%d=%2d   \" % (i, j, product), end=\"\")\n",
        "  print()"
      ],
      "metadata": {
        "colab": {
          "base_uri": "https://localhost:8080/"
        },
        "id": "bbblD8q3Byvz",
        "outputId": "b2e72e3d-6278-4a40-94ab-38d35f97d7cc"
      },
      "execution_count": null,
      "outputs": [
        {
          "output_type": "stream",
          "name": "stdout",
          "text": [
            "2*1= 2   2*2= 4   2*3= 6   2*4= 8   2*5=10   2*6=12   2*7=14   2*8=16   2*9=18   \n",
            "3*1= 3   3*2= 6   3*3= 9   3*4=12   3*5=15   3*6=18   3*7=21   3*8=24   3*9=27   \n",
            "4*1= 4   4*2= 8   4*3=12   4*4=16   4*5=20   4*6=24   4*7=28   4*8=32   4*9=36   \n",
            "5*1= 5   5*2=10   5*3=15   5*4=20   5*5=25   5*6=30   5*7=35   5*8=40   5*9=45   \n",
            "6*1= 6   6*2=12   6*3=18   6*4=24   6*5=30   6*6=36   6*7=42   6*8=48   6*9=54   \n",
            "7*1= 7   7*2=14   7*3=21   7*4=28   7*5=35   7*6=42   7*7=49   7*8=56   7*9=63   \n",
            "8*1= 8   8*2=16   8*3=24   8*4=32   8*5=40   8*6=48   8*7=56   8*8=64   8*9=72   \n",
            "9*1= 9   9*2=18   9*3=27   9*4=36   9*5=45   9*6=54   9*7=63   9*8=72   9*9=81   \n"
          ]
        }
      ]
    },
    {
      "cell_type": "code",
      "source": [
        "a = int(input(\"Please input a value\"))\n",
        "b = int(input(\"Please input b value\"))\n",
        "\n",
        "maxno = a * b\n",
        "for i in range (1, maxno+1):\n",
        "  if(i % a == 0 and i % b == 0):\n",
        "      break\n",
        "print(\"%d and %d LCM = %d\" %(a,b,i))"
      ],
      "metadata": {
        "colab": {
          "base_uri": "https://localhost:8080/"
        },
        "id": "P0hW6HzMByyc",
        "outputId": "c20b9af2-8387-41d0-fe1a-95f64eb574e6"
      },
      "execution_count": null,
      "outputs": [
        {
          "output_type": "stream",
          "name": "stdout",
          "text": [
            "Please input a value4\n",
            "Please input b value6\n",
            "4 and 6 LCM = 12\n"
          ]
        }
      ]
    },
    {
      "cell_type": "code",
      "source": [
        "n = int(input('Please input a positive integer : '))\n",
        "for i in range(1,n+1):\n",
        "  if i % 5 == 0:\n",
        "      continue\n",
        "  print(i, end=\" \")\n"
      ],
      "metadata": {
        "colab": {
          "base_uri": "https://localhost:8080/"
        },
        "id": "M9nTSsxtBy09",
        "outputId": "8b165266-95cc-4e40-924b-5b00e986bb6a"
      },
      "execution_count": null,
      "outputs": [
        {
          "output_type": "stream",
          "name": "stdout",
          "text": [
            "Please input a positive integer : 21\n",
            "1 2 3 4 6 7 8 9 11 12 13 14 16 17 18 19 21 "
          ]
        }
      ]
    },
    {
      "cell_type": "code",
      "source": [
        "total = n = 0\n",
        "while(n <= 10):\n",
        "  total += n\n",
        "  n += 1\n",
        "print(total)"
      ],
      "metadata": {
        "colab": {
          "base_uri": "https://localhost:8080/"
        },
        "id": "SLYD-s2pBy3o",
        "outputId": "99ce5fdb-aa1e-438f-93c3-6bf64d57460b"
      },
      "execution_count": null,
      "outputs": [
        {
          "output_type": "stream",
          "name": "stdout",
          "text": [
            "55\n"
          ]
        }
      ]
    },
    {
      "cell_type": "code",
      "source": [
        "total = n = 0\n",
        "while n<= 10:\n",
        "  total +=n\n",
        "  n += 1\n",
        "print(total)"
      ],
      "metadata": {
        "colab": {
          "base_uri": "https://localhost:8080/"
        },
        "id": "w8zC7hTYBy6H",
        "outputId": "81c04ada-19f5-476d-fca6-1d487e3e4157"
      },
      "execution_count": null,
      "outputs": [
        {
          "output_type": "stream",
          "name": "stdout",
          "text": [
            "55\n"
          ]
        }
      ]
    },
    {
      "cell_type": "code",
      "source": [
        "total = i = 1\n",
        "c\n",
        "while  i<=n:\n",
        "  total *= i\n",
        "  i+=1\n",
        "print(\"%d!=%d\"  %(n, total))\n"
      ],
      "metadata": {
        "colab": {
          "base_uri": "https://localhost:8080/"
        },
        "id": "oUX1GDWvBy8o",
        "outputId": "60c14914-5470-4d8d-91f1-c1b3da561c9f"
      },
      "execution_count": null,
      "outputs": [
        {
          "output_type": "stream",
          "name": "stdout",
          "text": [
            "Please input a postive integer n value: 5\n",
            "5!=120\n"
          ]
        }
      ]
    },
    {
      "cell_type": "code",
      "source": [
        "total = n = 0\n",
        "while n<= 50:\n",
        "  n=n+1\n",
        "  if (n%2==0 ):\n",
        "    total=total+n\n",
        "print(\"The sum of all even number from 0 to 50 is : \" ,total)\n"
      ],
      "metadata": {
        "colab": {
          "base_uri": "https://localhost:8080/"
        },
        "id": "heLB4O9SBy_B",
        "outputId": "5167d21b-cf95-4360-da53-7b5f7d67a84b"
      },
      "execution_count": null,
      "outputs": [
        {
          "output_type": "stream",
          "name": "stdout",
          "text": [
            "The sum of all even number from 0 to 50 is :  650\n"
          ]
        }
      ]
    },
    {
      "cell_type": "code",
      "source": [
        "row = int(input('Please input a positive integer : '))\n",
        "b= 0\n",
        "for i in range(row,0,-1):\n",
        "  b += 1\n",
        "  for j in range(1,i + 1):\n",
        "    print(\"*\",end=\" \")\n",
        "  print(\"\\n\")"
      ],
      "metadata": {
        "colab": {
          "base_uri": "https://localhost:8080/"
        },
        "id": "1nW_XG_XBzBq",
        "outputId": "efbf7c41-b585-4841-fd1c-2cc70df675ca"
      },
      "execution_count": null,
      "outputs": [
        {
          "output_type": "stream",
          "name": "stdout",
          "text": [
            "Please input a positive integer : 9\n",
            "* * * * * * * * * \n",
            "\n",
            "* * * * * * * * \n",
            "\n",
            "* * * * * * * \n",
            "\n",
            "* * * * * * \n",
            "\n",
            "* * * * * \n",
            "\n",
            "* * * * \n",
            "\n",
            "* * * \n",
            "\n",
            "* * \n",
            "\n",
            "* \n",
            "\n"
          ]
        }
      ]
    },
    {
      "cell_type": "code",
      "source": [
        "total = n = 0\n",
        "while n<= 50:\n",
        "  n=n+1\n",
        "  if (n%2!=0 ):\n",
        "    total=total+n\n",
        "print(\"The sum of all odd number from 0 to 50 is : \" ,total)"
      ],
      "metadata": {
        "colab": {
          "base_uri": "https://localhost:8080/"
        },
        "id": "OIpRiYlPBzEW",
        "outputId": "4df3b703-5e5b-4ded-d82b-be09696ce94f"
      },
      "execution_count": null,
      "outputs": [
        {
          "output_type": "stream",
          "name": "stdout",
          "text": [
            "The sum of all even number from 0 to 50 is :  676\n"
          ]
        }
      ]
    },
    {
      "cell_type": "code",
      "source": [
        "num = int(input(\"Please input a number\"))\n",
        "ans = num\n",
        "def print_factors(x):\n",
        "  print(x, \"factor have :\")\n",
        "  for i in range(1, x+1):\n",
        "    if x % i == 0:\n",
        "      print(i)\n",
        "print_factors(num,)\n",
        "if ans > 1:\n",
        "  for i in range(2, int(ans/2)+1):\n",
        "    if (ans % i) == 0:\n",
        "      break\n",
        "      print(\"It is not a prime number\")\n",
        "      \n",
        "  else:\n",
        "    print(\"It is a prime number\")\n",
        "\n",
        "else:\n",
        "  print(\"It is not a prime number\")\n",
        "\n"
      ],
      "metadata": {
        "colab": {
          "base_uri": "https://localhost:8080/"
        },
        "id": "yGlF-TQzKgYM",
        "outputId": "edcece6d-75b1-4145-9d85-04cc0d404829"
      },
      "execution_count": 7,
      "outputs": [
        {
          "output_type": "stream",
          "name": "stdout",
          "text": [
            "Please input a number12\n",
            "12 factor have :\n",
            "1\n",
            "2\n",
            "3\n",
            "4\n",
            "6\n",
            "12\n"
          ]
        }
      ]
    },
    {
      "cell_type": "code",
      "source": [
        "a = 0\n",
        "for n in range(1,100):\n",
        "  if n%3==0 or n%7==0:\n",
        "    a=a+n\n",
        "print(\"In value 1-100, the sum of all multiples of 3 or 7 = 2208\")"
      ],
      "metadata": {
        "colab": {
          "base_uri": "https://localhost:8080/"
        },
        "id": "woBaQcMuKhHN",
        "outputId": "cc5f8aa4-6537-4177-bb9a-8c0c4f8def6c"
      },
      "execution_count": 8,
      "outputs": [
        {
          "output_type": "stream",
          "name": "stdout",
          "text": [
            "In value 1-100, the sum of all multiples of 3 or 7 = 2208\n"
          ]
        }
      ]
    },
    {
      "cell_type": "code",
      "source": [
        ""
      ],
      "metadata": {
        "id": "itWRjRfpKhEv"
      },
      "execution_count": null,
      "outputs": []
    },
    {
      "cell_type": "code",
      "source": [
        ""
      ],
      "metadata": {
        "id": "EymUmfSqKhCB"
      },
      "execution_count": null,
      "outputs": []
    },
    {
      "cell_type": "code",
      "source": [
        ""
      ],
      "metadata": {
        "id": "pV-6UPwbKg_e"
      },
      "execution_count": null,
      "outputs": []
    },
    {
      "cell_type": "code",
      "source": [
        ""
      ],
      "metadata": {
        "id": "0Hi1yZlIKg84"
      },
      "execution_count": null,
      "outputs": []
    },
    {
      "cell_type": "code",
      "source": [
        ""
      ],
      "metadata": {
        "id": "kJxeJ8phKg6U"
      },
      "execution_count": null,
      "outputs": []
    },
    {
      "cell_type": "code",
      "source": [
        ""
      ],
      "metadata": {
        "id": "JkxELyrzKg3p"
      },
      "execution_count": null,
      "outputs": []
    },
    {
      "cell_type": "code",
      "source": [
        ""
      ],
      "metadata": {
        "id": "WS2fU44xKgVK"
      },
      "execution_count": null,
      "outputs": []
    }
  ]
}